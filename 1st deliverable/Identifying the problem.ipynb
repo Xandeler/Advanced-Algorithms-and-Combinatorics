{
 "cells": [
  {
   "cell_type": "markdown",
   "metadata": {},
   "source": [
    "# *Things to do:*\n",
    "- The scope of the problem is well defined: reformulation of the need, reminder of the objectives of the study, choice of constraints, identification of the problem with the Vehicle Routing problem or the Traveling Salesman problem if they consider 1 vehicle only."
   ]
  },
  {
   "cell_type": "markdown",
   "metadata": {},
   "source": [
    "# **Summary of Problem Scope**\n",
    "1. **Reformulated Need:** Optimize the delivery routes for efficient, cost-effective, and timely deliveries.\n",
    "2. **Objectives:**\n",
    "    - Minimize cost (distance/time).\n",
    "    - Ensure deliveries within time windows.\n",
    "    - Maximize vehicle capacity utilization.\n",
    "    - (Minimize waiting times at each delivery) --> The time's delivery is fix in the dataset...\n",
    "3. **Constraints:**\n",
    "    - Vehicle Count: Number of vehicles available.\n",
    "    - Time Window: Customer-specific delivery times.\n",
    "    - Capacity and Demand: Vehicle capacity and customer demand.\n",
    "    - Service Time: Time needed for each delivery.\n",
    "4. **Problem Type:**\n",
    "    - VRP for multiple vehicles.\n",
    "    - TSP if only one vehicle is used."
   ]
  },
  {
   "cell_type": "markdown",
   "metadata": {},
   "source": [
    "# **I. Reformulated Need:**\n",
    "\n",
    "To start, we need to clarify the core need of the problem, which will guide our objectives and constraints.\n",
    "\n",
    "**Need Identification:** A logistics provider needs to deliver goods to multiple customers efficiently. Efficient delivery means achieving optimal routes for one or multiple delivery vehicles to meet customer requirements while minimizing operational costs.\n",
    "\n",
    "**Problem Type:** This problem can be formulated as a Vehicle Routing Problem (VRP) if multiple vehicles are used. If only one vehicle is used, it aligns with the Traveling Salesman Problem (TSP)."
   ]
  },
  {
   "cell_type": "markdown",
   "metadata": {},
   "source": [
    "# **II. Reminder of the Objectives of the Study**\n",
    "The objectives of this routing optimization study should focus on enhancing efficiency in terms of cost, time, and customer satisfaction.\n",
    "\n",
    "- **Primary Objective:** Minimize total delivery cost. Cost can be defined in terms of distance, time, or fuel consumption.\n",
    "- **Secondary Objectives:**\n",
    "    - **Timeliness:** Ensure all deliveries occur within specified customer time windows.\n",
    "    - **Capacity Optimization:** Maximize each vehicle's load without exceeding its capacity.\n",
    "    - **Service Quality:** Minimize waiting times and avoid unnecessary delays, enhancing overall service quality."
   ]
  },
  {
   "cell_type": "markdown",
   "metadata": {},
   "source": [
    "# **III. Choice of Constraints**\n",
    "Constraints are crucial for setting realistic boundaries on the optimization problem. Here are the primary constraints for this project:\n",
    "\n",
    "1. **Number of Vehicles:**\n",
    "\n",
    "    - **Description:** The number of available vehicles for delivery is fixed and should be accounted for in the model.\n",
    "    - **Constraint Type:** Fixed or flexible, depending on fleet availability.\n",
    "    - **Purpose:** This will determine if the problem remains a VRP (multiple vehicles) or reduces to a TSP (single vehicle).\n",
    "2. **Time Window:**\n",
    "\n",
    "    - **Description:** Each customer has a specific time window within which they require delivery. The time window could vary between early morning to late evening, depending on customer preference.\n",
    "    - **Constraint Type:** Hard constraint (deliveries must occur within the window) or soft constraint (deliveries can occur slightly outside the window with penalties).\n",
    "    - **Purpose:** Ensures customer satisfaction and improves operational planning by defining acceptable delivery times.\n",
    "3. **Capacity and Demand:**\n",
    "\n",
    "    - **Description:** Each vehicle has a maximum carrying capacity (e.g., weight or volume). Each customer also has a specific demand that needs to be met.\n",
    "    - **Constraint Type:** Hard constraint (vehicle capacity cannot be exceeded).\n",
    "    - **Purpose:** Helps in planning deliveries to optimize vehicle utilization while preventing overloads.\n",
    "4. **Service Time:**\n",
    "\n",
    "    - **Description:** Service time represents the time taken for a vehicle to complete a delivery at each customer location. This includes unloading or waiting for customer acceptance.\n",
    "    - **Constraint Type:** Operational constraint (service time is accounted for in scheduling).\n",
    "    - **Purpose:** Helps ensure realistic routing and scheduling by accounting for time spent at each delivery point."
   ]
  },
  {
   "cell_type": "markdown",
   "metadata": {},
   "source": [
    "# **IV. Problem Identification as VRP or TSP**\n",
    "\n",
    "The identification of the problem as a Traveling Salesman Problem (TSP) or a Vehicle Routing Problem (VRP) hinges on the number of vehicles involved in the delivery scenario. Each problem type has a different approach to optimization based on the constraints and resources available.\n",
    "\n",
    "**Single Vehicle: Traveling Salesman Problem (TSP)**\n",
    "If only one vehicle is used for all deliveries, the routing challenge aligns with the Traveling Salesman Problem (TSP). Here’s a breakdown of how TSP fits this scenario:\n",
    "\n",
    "- **Objective:** In TSP, the objective is to find the shortest possible route that visits each customer exactly once and then returns to the starting point. The goal is typically to minimize either the total distance traveled or the total travel time.\n",
    "- **Constraints:** While classic TSP doesn’t traditionally incorporate constraints like time windows or service times, in real-world applications, we can adapt TSP to account for these:\n",
    "    - **Time Windows:** Deliveries should be made within each customer’s specified time window. If a customer can only receive deliveries between, say, 10 AM and 12 PM, the route must be adjusted to arrive within this window.\n",
    "    - **Service Time:** The time required for unloading or any other service at each customer location needs to be factored into the schedule.\n",
    "    - **Capacity and Demand:** Since there’s only one vehicle, its capacity must be enough to meet the cumulative demand of all customers.\n",
    "\n",
    "Thus, TSP in this case involves finding the most efficient route for a single vehicle that meets all specified delivery requirements. Due to its nature of focusing on one vehicle, TSP has a simpler structure compared to VRP but can still handle significant complexity when adapted to include real-world constraints.\n",
    "\n",
    "**Multiple Vehicles: Vehicle Routing Problem (VRP)**\n",
    "When there are multiple vehicles available, the problem expands into a Vehicle Routing Problem (VRP). VRP is a generalization of TSP designed to handle multiple vehicles, and the goal is to optimize routes across all vehicles to meet customer demands efficiently. Here’s a deeper look into VRP:\n",
    "\n",
    "- **Objective:** In VRP, the objective is to minimize the total cost across all vehicles. This could mean minimizing the total distance traveled by all vehicles, the cumulative travel time, or the total delivery cost.\n",
    "- **Complexity Increase:** Unlike TSP, VRP requires determining:\n",
    "    - How many customers each vehicle should serve.\n",
    "    - Which specific customers each vehicle should visit.\n",
    "    - The order in which each vehicle should visit its assigned customers.\n",
    "- **Constraints:** VRP incorporates the same constraints as TSP but applies them across multiple vehicles:\n",
    "    - **Time Windows:** Each vehicle must adhere to time windows for customers along its assigned route.\n",
    "    - **Capacity and Demand:** Each vehicle has a maximum capacity, and customer demands must be met without exceeding any vehicle’s capacity.\n",
    "    - **Service Time:** The time required to service each customer (e.g., unloading) must be factored into the schedule for each vehicle.\n",
    "- **Optimization:** VRP optimizes not only the route of each vehicle but also assigns customers to vehicles in a way that minimizes total costs.\n",
    "\n",
    "The VRP is inherently more complex than TSP due to the added layer of optimizing multiple routes. However, VRP can be customized to address various business needs, such as prioritizing certain deliveries or balancing the workload across the fleet.\n",
    "\n",
    "\n"
   ]
  }
 ],
 "metadata": {
  "language_info": {
   "name": "python"
  }
 },
 "nbformat": 4,
 "nbformat_minor": 2
}
