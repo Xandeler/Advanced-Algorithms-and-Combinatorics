{
 "cells": [
  {
   "cell_type": "markdown",
   "metadata": {},
   "source": [
    "# ***Things to do:***\n",
    "- The problem is well defined mathematically (objective function, constraints). "
   ]
  }
 ],
 "metadata": {
  "language_info": {
   "name": "python"
  }
 },
 "nbformat": 4,
 "nbformat_minor": 2
}
