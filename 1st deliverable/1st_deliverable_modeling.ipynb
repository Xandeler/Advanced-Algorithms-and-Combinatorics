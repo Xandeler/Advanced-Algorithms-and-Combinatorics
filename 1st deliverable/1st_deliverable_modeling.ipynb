{
 "cells": [
  {
   "cell_type": "markdown",
   "metadata": {},
   "source": [
    "**<h1 style=\"border: 5px solid white; padding: 10px; display: block; text-align: center; margin: auto; width: fit-content;\">1st Deliverable: Modeling</h1>**"
   ]
  },
  {
   "cell_type": "markdown",
   "metadata": {},
   "source": [
    "## **Table of contents**\n",
    "1.  [Team's presentation](#f)\n",
    "2.  [Context](#s)\n",
    "3.  [Deliverable Expectations](#t)\n",
    "4.  [Some constraints ideas](#fo)  \n",
    "5.  [Conclusion](#fi)  \n",
    "\n",
    "\n"
   ]
  },
  {
   "cell_type": "markdown",
   "metadata": {},
   "source": [
    "## **1. Team's presentation <a class=\"anchor\" id=\"f\"></a>**\n",
    "<div style=\"display: flex; justify-content: center; gap: 20px; margin-bottom: 20px;\">\n",
    "  <!-- Premier cadre -->\n",
    "  <div style=\"border: 2px solid white; padding: 10px; width: 400px; text-align: center;\">\n",
    "    <img src=\"../Photo/Alexandre.JPG\" alt=\"Image 1\" style=\"width: 100%; height: auto;\">\n",
    "    <div style=\"margin-top: 10px;\"><b>GRASSER Alexandre</b></div>\n",
    "  </div>\n",
    "\n",
    "  <!-- Deuxième cadre -->\n",
    "  <div style=\"border: 2px solid white; padding: 10px; width: 400px; text-align: center;\">\n",
    "    <img src=\"../Photo/Cho.jpg\" alt=\"Image 2\" style=\"width: 100%; height: auto;\">\n",
    "    <div style=\"margin-top: 10px;\"><b>LAQSHYA Cho</b></div>\n",
    "  </div>\n",
    "</div>\n",
    "\n",
    "<!-- Troisième cadre au centre en dessous -->\n",
    "<div style=\"display: flex; justify-content: center;\">\n",
    "  <div style=\"border: 2px solid white; padding: 10px; width: 400px; text-align: center;\">\n",
    "    <img src=\"../Photo/Johan.jpg\" alt=\"Image 3\" style=\"width: 100%; height: auto;\">\n",
    "    <div style=\"margin-top: 10px;\"><b>Project Manager - RINALDI Johan</b></div>\n",
    "  </div>\n",
    "</div>\n",
    "\n",
    "<div style=\"display: flex; justify-content: center; gap: 20px; margin-bottom: 20px;\">\n",
    "  <!-- Quatrième cadre -->\n",
    "  <div style=\"border: 2px solid white; padding: 10px; width: 400px; text-align: center;\">\n",
    "    <img src=\"../Photo/Axel.jpg\" alt=\"Image 1\" style=\"width: 100%; height: auto;\">\n",
    "    <div style=\"margin-top: 10px;\"><b>ENGEL Axel</b></div>\n",
    "  </div>\n",
    "\n",
    "  <!-- Cinquième cadre -->\n",
    "  <div style=\"border: 2px solid white; padding: 10px; width: 400px; text-align: center;\">\n",
    "    <img src=\"../Photo/Yusuf.jpg\" alt=\"Image 2\" style=\"width: 100%; height: auto;\">\n",
    "    <div style=\"margin-top: 10px;\"><b>OZEN Yusuf</b></div>\n",
    "  </div>\n",
    "</div>\n"
   ]
  },
  {
   "cell_type": "markdown",
   "metadata": {},
   "source": [
    "## **2. Context <a class=\"anchor\" id=\"s\"></a>**\n",
    "<blockquote>\n",
    "CesiCDP (our team) is responding to ADEME's call for innovative, eco-friendly transport solutions by focusing on optimizing delivery routes. The goal is to design a route that connects specific cities and returns to the starting point, minimizing travel time while accounting for traffic variations. Using Operations Research methods, you aim to create a realistic model that meets logistical and environmental goals. Adding extra constraints could increase the model's realism, helping your team secure ADEME's attention, funding, and expand CesiCDP’s influence in sustainable mobility.\n",
    "</blockquote>"
   ]
  },
  {
   "cell_type": "markdown",
   "metadata": {},
   "source": [
    "## **3. Delivrable Expectations<a class=\"anchor\" id=\"t\"></a>**\n",
    "*<p>Description of this deliverable:</p>*\n",
    "<blockquote>\n",
    "This first deliverable presents the problem you are addressing as well as its context, rephrases the problem in a formal way, and studies its theoretical properties, especially complexity ones. On the one hand, you must propose a formal representation of the data, problem and goal to be optimised (remember to incorporate the additional constraints that you decide to address). On the other hand, you must rely on this formal representation to demonstrate the theoretical complexity of the problem in question. It is strongly recommended to include bibliographic references of scientific research articles or books in this Notebook.\n",
    "\n",
    "The problem-solving methods are not to be covered during this check phase. You will have the opportunity to study them in detail in the following loops.\n",
    "\n",
    "The status is discussed with the project tutor, allowing you to properly validate your modelling prior to implementation. Items may be subject to change before being incorporated into the final project deliverable.\n",
    "</blockquote>"
   ]
  },
  {
   "cell_type": "markdown",
   "metadata": {},
   "source": [
    "## **4. Constraints chosen<a class=\"anchor\" id=\"fo\"></a>**\n",
    "<table>\n",
    "    <tr>\n",
    "        <th>Constraint</th>\n",
    "        <th>Description</th>\n",
    "    </tr>\n",
    "    <tr>\n",
    "        <td>Truck capacity</td>\n",
    "        <td>Weight limit</td>\n",
    "    </tr>\n",
    "    <tr>\n",
    "        <td>Opening hours for customers</td>\n",
    "        <td>Time window for customer availability</td>\n",
    "    </tr>\n",
    "    <tr>\n",
    "        <td>Number of vehicle</td>\n",
    "        <td>The maximum/minimum number of vehicle we have</td>\n",
    "    </tr>\n",
    "    <tr>\n",
    "        <td>Service time</td>\n",
    "        <td>Simulate the delivery time (can be constant for all or different)</td>\n",
    "    </tr>\n",
    "    <tr>\n",
    "        <td>Single visit per customer</td>\n",
    "        <td>Each customer must be delivered exactly once</td>\n",
    "    </tr>\n",
    "    <tr>\n",
    "        <td>Return to depot</td>\n",
    "        <td>Each route must start and end at the central depot</td>\n",
    "    </tr>\n",
    "</table>"
   ]
  },
  {
   "cell_type": "markdown",
   "metadata": {},
   "source": [
    "## **5. Conclusion<a class=\"anchor\" id=\"fi\"></a>**"
   ]
  }
 ],
 "metadata": {
  "language_info": {
   "name": "python"
  }
 },
 "nbformat": 4,
 "nbformat_minor": 2
}
