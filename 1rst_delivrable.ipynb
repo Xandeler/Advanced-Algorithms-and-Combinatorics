{
 "cells": [
  {
   "cell_type": "code",
   "execution_count": null,
   "metadata": {},
   "outputs": [],
   "source": []
  },
  {
   "cell_type": "markdown",
   "metadata": {},
   "source": [
    "#### Some constraints ideas :\n",
    "\n",
    "<table>\n",
    "    <tr>\n",
    "        <th>Constraint</th>\n",
    "        <th>Description</th>\n",
    "    </tr>\n",
    "    <tr>\n",
    "        <td>Truck capacity</td>\n",
    "        <td>Volume / Weight limits</td>\n",
    "    </tr>\n",
    "    <tr>\n",
    "        <td>Opening hours for customers</td>\n",
    "        <td>Common to all or variables</td>\n",
    "    </tr>\n",
    "    <tr>\n",
    "        <td>Travel time varies</td>\n",
    "        <td>Simulate traffic</td>\n",
    "    </tr>\n",
    "    <tr>\n",
    "        <td>Drivers break</td>\n",
    "        <td>Drivers do break at least for lunch</td>\n",
    "    </tr>\n",
    "    <tr>\n",
    "        <td>Weather conditions</td>\n",
    "        <td>sunny --> normal<br>\n",
    "\t        rainy --> travel time x 1.1<br>\n",
    "\t        foggy --> travel time x 1.5</td>\n",
    "    </tr>\n",
    "</table>"
   ]
  }
 ],
 "metadata": {
  "language_info": {
   "name": "python"
  }
 },
 "nbformat": 4,
 "nbformat_minor": 2
}
