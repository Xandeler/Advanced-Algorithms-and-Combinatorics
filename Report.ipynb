{
 "cells": [
  {
   "cell_type": "markdown",
   "id": "4881a363-0744-4e37-be07-6d73f2b21003",
   "metadata": {},
   "source": [
    "<b><h1 style=\"text-align: center\">Report on project tasks</h1></b>"
   ]
  },
  {
   "cell_type": "markdown",
   "id": "975b747e-8d71-432a-b3f0-e7906ef35a17",
   "metadata": {},
   "source": [
    "<h3>What deliverables do we have to do?</h3>\n",
    "\n",
    "<h5>Deliverable 1 : Modelling</h5>\n",
    "\n",
    "<table>\n",
    "    <tr>\n",
    "    <th scope=\"col\">Deadline</th>\n",
    "    <th scope=\"col\">Goal</th>\n",
    "    <th scope=\"col\">Description</th>\n",
    "    </tr>\n",
    "    <tr>\n",
    "        <th scope=\"col\">14/11/2024</th>\n",
    "        <th scope=\"col\">Modelling the problem</th>\n",
    "        <th scope=\"col\">This first deliverable presents the problem you are addressing as well as its context, rephrases the problem in a formal way, and studies its theoretical properties, especially complexity ones. On the one hand, you must propose a formal representation of the data, problem and goal to be optimised (remember to incorporate the additional constraints that you decide to address). On the other hand, you must rely on this formal representation to demonstrate the theoretical complexity of the problem in question. It is strongly recommended to include bibliographic references of scientific research articles or books in this Notebook.</th>\n",
    "    </tr>\n",
    "\n",
    "\n",
    "</table>"
   ]
  }
 ],
 "metadata": {
  "kernelspec": {
   "display_name": "Python 3 (ipykernel)",
   "language": "python",
   "name": "python3"
  },
  "language_info": {
   "codemirror_mode": {
    "name": "ipython",
    "version": 3
   },
   "file_extension": ".py",
   "mimetype": "text/x-python",
   "name": "python",
   "nbconvert_exporter": "python",
   "pygments_lexer": "ipython3",
   "version": "3.12.4"
  }
 },
 "nbformat": 4,
 "nbformat_minor": 5
}
