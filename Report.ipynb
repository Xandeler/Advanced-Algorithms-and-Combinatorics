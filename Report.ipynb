{
 "cells": [
  {
   "cell_type": "markdown",
   "id": "4881a363-0744-4e37-be07-6d73f2b21003",
   "metadata": {},
   "source": [
    "<b><h1 style=\"text-align: center\">Report on project tasks</h1></b>"
   ]
  },
  {
   "cell_type": "markdown",
   "id": "975b747e-8d71-432a-b3f0-e7906ef35a17",
   "metadata": {},
   "source": [
    "**<h5>Context</h5>**\n",
    "<blockquote>\n",
    "CesiCDP (our team) is responding to ADEME's call for innovative, eco-friendly transport solutions by focusing on optimizing delivery routes. The goal is to design a route that connects specific cities and returns to the starting point, minimizing travel time while accounting for traffic variations. Using Operations Research methods, you aim to create a realistic model that meets logistical and environmental goals. Adding extra constraints could increase the model's realism, helping your team secure ADEME's attention, funding, and expand CesiCDP’s influence in sustainable mobility.\n",
    "</blockquote>\n",
    "\n",
    "**<h5>Deliverable 1 : Modelling</h5>**\n",
    "\n",
    "<table>\n",
    "    <tr>\n",
    "    <th scope=\"col\">Deadline</th>\n",
    "    <th scope=\"col\">Assessment</th>\n",
    "    <th scope=\"col\">Goal</th>\n",
    "    <th scope=\"col\">Description</th>\n",
    "    </tr>\n",
    "    <tr>\n",
    "        <td>14/11/2024</th>\n",
    "        <td>No but this will help us for the next deliverable</th>\n",
    "        <td>To be defined together</th>\n",
    "        <td>To be defined together</th>\n",
    "    </tr>\n",
    "</table>\n",
    "\n",
    "<p>Description of this deliverable:</p>\n",
    "<blockquote>\n",
    "This first deliverable presents the problem you are addressing as well as its context, rephrases the problem in a formal way, and studies its theoretical properties, especially complexity ones. On the one hand, you must propose a formal representation of the data, problem and goal to be optimised (remember to incorporate the additional constraints that you decide to address). On the other hand, you must rely on this formal representation to demonstrate the theoretical complexity of the problem in question. It is strongly recommended to include bibliographic references of scientific research articles or books in this Notebook.\n",
    "\n",
    "The problem-solving methods are not to be covered during this check phase. You will have the opportunity to study them in detail in the following loops.\n",
    "\n",
    "The status is discussed with the project tutor, allowing you to properly validate your modelling prior to implementation. Items may be subject to change before being incorporated into the final project deliverable.\n",
    "</blockquote>\n",
    "\n",
    "**<h5>Deliverable 2 : Final project outcome</h5>**\n",
    "\n",
    "<table>\n",
    "    <tr>\n",
    "    <th scope=\"col\">Deadline</th>\n",
    "    <th scope=\"col\">Assessment</th>\n",
    "    <th scope=\"col\">Goal</th>\n",
    "    <th scope=\"col\">Description</th>\n",
    "    </tr>\n",
    "    <tr>\n",
    "        <th>29/11/2024</th>\n",
    "        <td>Yes</th>\n",
    "        <td>To be defined together</th>\n",
    "        <td>To be defined together</th>\n",
    "    </tr>\n",
    "</table>\n",
    "\n",
    "<p>Detailled description of this deliverable:</p>\n",
    "<blockquote>\n",
    "This deliverable is divided into two parts:\n",
    "\n",
    "1. **PART 1:** Modelling\n",
    "    - Includes updated formal modelling elements\n",
    "    Describes the problem-solving method chosen: details on the algorithm used, i.e. the metaheuristic technique chosen and the problem\n",
    "    modelling according to the formality of this metaheuristic technique (neighbourhood, crossover operations…)\n",
    "\n",
    "2. **PART 2:** Implementation and operation\n",
    "\n",
    "    - Implementation :\n",
    "    This algorithm’s implementation\n",
    "    A demonstration of how this implementation works, on different test cases (no need to go into detail)\n",
    "\n",
    "    - Operation: Experimental study\n",
    "    Explaining the experimental performance of your solution. This part of the deliverable should propose and implement a comprehensive\n",
    "    experimental design demonstrating your algorithm’s performance, its limitations, and the prospects for improvement that you propose based on\n",
    "    your analysis.<br>\n",
    "    The methodology used in this experimental design, the analyses that you will propose based on the statistical results achieved, and the\n",
    "    proposals for improvement that you will derive from them, should be justified in detail.\n",
    "</blockquote>\n"
   ]
  },
  {
   "cell_type": "markdown",
   "id": "d6d5a45e",
   "metadata": {},
   "source": []
  }
 ],
 "metadata": {
  "kernelspec": {
   "display_name": "Python 3 (ipykernel)",
   "language": "python",
   "name": "python3"
  },
  "language_info": {
   "codemirror_mode": {
    "name": "ipython",
    "version": 3
   },
   "file_extension": ".py",
   "mimetype": "text/x-python",
   "name": "python",
   "nbconvert_exporter": "python",
   "pygments_lexer": "ipython3",
   "version": "3.12.4"
  }
 },
 "nbformat": 4,
 "nbformat_minor": 5
}
