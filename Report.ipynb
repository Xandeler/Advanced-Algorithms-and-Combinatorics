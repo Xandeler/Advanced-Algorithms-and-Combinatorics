{
 "cells": [
  {
   "cell_type": "markdown",
   "id": "4881a363-0744-4e37-be07-6d73f2b21003",
   "metadata": {},
   "source": [
    "<b><h1 style=\"text-align: center\">Report on project tasks</h1></b>"
   ]
  },
  {
   "cell_type": "markdown",
   "id": "975b747e-8d71-432a-b3f0-e7906ef35a17",
   "metadata": {},
   "source": [
    "<h3>Which deliverables are we?</h3>\n",
    "\n",
    "<h5></h5>"
   ]
  }
 ],
 "metadata": {
  "kernelspec": {
   "display_name": "Python 3 (ipykernel)",
   "language": "python",
   "name": "python3"
  },
  "language_info": {
   "codemirror_mode": {
    "name": "ipython",
    "version": 3
   },
   "file_extension": ".py",
   "mimetype": "text/x-python",
   "name": "python",
   "nbconvert_exporter": "python",
   "pygments_lexer": "ipython3",
   "version": "3.12.4"
  }
 },
 "nbformat": 4,
 "nbformat_minor": 5
}
