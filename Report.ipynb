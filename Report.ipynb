{
 "cells": [
  {
   "cell_type": "markdown",
   "id": "4881a363-0744-4e37-be07-6d73f2b21003",
   "metadata": {},
   "source": [
    "<b><h1 style=\"text-align: center\">Report on project tasks</h1></b>"
   ]
  },
  {
   "cell_type": "markdown",
   "id": "975b747e-8d71-432a-b3f0-e7906ef35a17",
   "metadata": {},
   "source": [
    "<h3>What deliverables do we have to do?</h3>\n",
    "\n",
    "<h5>Deliverable 1 : Modelling</h5>\n",
    "\n",
    "<table>\n",
    "    <tr>\n",
    "    <th scope=\"col\">Deadline</th>\n",
    "    <th scope=\"col\">Assessment</th>\n",
    "    <th scope=\"col\">Goal</th>\n",
    "    <th scope=\"col\">Description</th>\n",
    "    </tr>\n",
    "    <tr>\n",
    "        <td>14/11/2024</th>\n",
    "        <td>No but this will help us for the next deliverable</th>\n",
    "        <td>To be defined together</th>\n",
    "        <td>To be defined together</th>\n",
    "    </tr>\n",
    "</table>\n",
    "\n",
    "<p><i>Detailled description of this deliverable (task to do, order of tasks) </i></p>\n",
    "\n",
    "<h5>Deliverable 2 : Final project outcome</h5>\n",
    "\n",
    "<table>\n",
    "    <tr>\n",
    "    <th scope=\"col\">Deadline</th>\n",
    "    <th scope=\"col\">Assessment</th>\n",
    "    <th scope=\"col\">Goal</th>\n",
    "    <th scope=\"col\">Description</th>\n",
    "    </tr>\n",
    "    <tr>\n",
    "        <td>29/11/2024</th>\n",
    "        <td>Yes</th>\n",
    "        <td>To be defined together</th>\n",
    "        <td>To be defined together</th>\n",
    "    </tr>\n",
    "</table>\n",
    "\n",
    "<p><i>Detailled description of this deliverable (task to do, order of tasks) </i></p>"
   ]
  }
 ],
 "metadata": {
  "kernelspec": {
   "display_name": "Python 3 (ipykernel)",
   "language": "python",
   "name": "python3"
  },
  "language_info": {
   "codemirror_mode": {
    "name": "ipython",
    "version": 3
   },
   "file_extension": ".py",
   "mimetype": "text/x-python",
   "name": "python",
   "nbconvert_exporter": "python",
   "pygments_lexer": "ipython3",
   "version": "3.12.4"
  }
 },
 "nbformat": 4,
 "nbformat_minor": 5
}
